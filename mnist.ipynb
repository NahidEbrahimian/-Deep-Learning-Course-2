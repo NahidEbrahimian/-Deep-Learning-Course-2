{
  "nbformat": 4,
  "nbformat_minor": 0,
  "metadata": {
    "colab": {
      "name": "mnist.ipynb",
      "provenance": [],
      "collapsed_sections": []
    },
    "kernelspec": {
      "name": "python3",
      "display_name": "Python 3"
    },
    "language_info": {
      "name": "python"
    },
    "accelerator": "GPU"
  },
  "cells": [
    {
      "cell_type": "code",
      "metadata": {
        "id": "IFjgmOuU047M"
      },
      "source": [
        "import torch\n",
        "import torchvision"
      ],
      "execution_count": null,
      "outputs": []
    },
    {
      "cell_type": "code",
      "metadata": {
        "id": "tp-G7BP61jFC"
      },
      "source": [
        "class model(torch.nn.Module):\n",
        "  def __init__(self):\n",
        "    super().__init__()\n",
        "\n",
        "    self.fc1 = torch.nn.Linear(784, 128)\n",
        "    self.fc2 = torch.nn.Linear(128, 10)\n",
        "\n",
        "  def forward(self, x):\n",
        "    # input shape: 32 * 28 * 28\n",
        "    x = x.reshape((x.shape[0], 784))\n",
        "    # output shape: 32*784\n",
        "    \n",
        "    x = self.fc1(x)\n",
        "    x = torch.relu(x)\n",
        "    x = torch.dropout(x, 0.2, train=True)\n",
        "    x = self.fc2(x)\n",
        "    x = torch.softmax(x, dim=1)\n",
        "    return x"
      ],
      "execution_count": null,
      "outputs": []
    },
    {
      "cell_type": "code",
      "metadata": {
        "colab": {
          "base_uri": "https://localhost:8080/"
        },
        "id": "4Mj8M0I37DoM",
        "outputId": "42378863-35b6-4ce2-9dc9-0d3b474cd1b1"
      },
      "source": [
        "device = torch.device(\"cuda\")\n",
        "# device = torch.device(\"cpu\")\n",
        "\n",
        "my_model = model()\n",
        "my_model = my_model.to(device)\n",
        "my_model.train(True)"
      ],
      "execution_count": null,
      "outputs": [
        {
          "output_type": "execute_result",
          "data": {
            "text/plain": [
              "model(\n",
              "  (fc1): Linear(in_features=784, out_features=128, bias=True)\n",
              "  (fc2): Linear(in_features=128, out_features=10, bias=True)\n",
              ")"
            ]
          },
          "metadata": {},
          "execution_count": 3
        }
      ]
    },
    {
      "cell_type": "code",
      "metadata": {
        "id": "CZYRzCWS8fjJ"
      },
      "source": [
        "# data preprocessing\n",
        "\n",
        "transform = torchvision.transforms.Compose([\n",
        "                                torchvision.transforms.ToTensor(),\n",
        "                                torchvision.transforms.Normalize((0), (1)),\n",
        "                                # torchvision.transforms.RandomHorizontalFlip(),\n",
        "                                # torchvision.transforms.\n",
        "])\n",
        "\n",
        "dataset = torchvision.datasets.MNIST(\"./dataset\", train=True, download=True, transform=transform)\n",
        "train_data = torch.utils.data.DataLoader(dataset, batch_size=batch_size, shuffle=True)\n"
      ],
      "execution_count": null,
      "outputs": []
    },
    {
      "cell_type": "code",
      "metadata": {
        "id": "f8FxnHInCiDT"
      },
      "source": [
        "# hyper parameters\n",
        "\n",
        "batch_size = 64\n",
        "epochs = 10\n",
        "lr = 0.001"
      ],
      "execution_count": null,
      "outputs": []
    },
    {
      "cell_type": "code",
      "metadata": {
        "id": "Re2AIoMDBP-m"
      },
      "source": [
        "# compile\n",
        "\n",
        "optimizer = torch.optim.Adam(my_model.parameters(), lr=lr)\n",
        "loss_function = torch.nn.CrossEntropyLoss()"
      ],
      "execution_count": null,
      "outputs": []
    },
    {
      "cell_type": "code",
      "metadata": {
        "id": "0GIHTxN4Bd47"
      },
      "source": [
        "# accuracy\n",
        "\n",
        "def calc_acc(preds, labels):\n",
        "  _, pred_max = torch.max(preds, 1)\n",
        "  acc = torch.sum(pred_max == labels.data, dtype=torch.float64) / len(preds)\n",
        "  return acc"
      ],
      "execution_count": null,
      "outputs": []
    },
    {
      "cell_type": "code",
      "metadata": {
        "colab": {
          "base_uri": "https://localhost:8080/"
        },
        "id": "V9n2M4nID3bT",
        "outputId": "0f6a9c51-1b1a-452f-f1ae-77a29952d253"
      },
      "source": [
        "# train\n",
        "\n",
        "for epoch in range(epochs):\n",
        "  train_loss = 0.0\n",
        "  train_acc = 0.0\n",
        "  for images, labels in train_data:\n",
        "    images = images.to(device)\n",
        "    labels = labels.to(device)\n",
        "    optimizer.zero_grad()\n",
        "\n",
        "    # 1-forwarding\n",
        "    preds = my_model(images)\n",
        "\n",
        "    # 2-backwarding\n",
        "    loss = loss_function(preds, labels)\n",
        "    loss.backward()\n",
        "\n",
        "    # 3-update\n",
        "    optimizer.step()\n",
        "\n",
        "    train_loss += loss\n",
        "    train_acc += calc_acc(preds, labels)\n",
        "\n",
        "  total_loss = train_loss / len(train_data)\n",
        "  total_acc = train_acc / len(train_data)\n",
        "  print(f\"Epoch: {epoch+1}, Loss: {total_loss}, Accuracy: {total_acc}\")"
      ],
      "execution_count": null,
      "outputs": [
        {
          "output_type": "stream",
          "name": "stdout",
          "text": [
            "Epoch: 0, Loss: 1.6181116104125977, Accuracy: 0.8743170309168443\n",
            "Epoch: 1, Loss: 1.5349410772323608, Accuracy: 0.9344183102345416\n",
            "Epoch: 2, Loss: 1.5203274488449097, Accuracy: 0.9462953091684435\n",
            "Epoch: 3, Loss: 1.5107839107513428, Accuracy: 0.954974013859275\n",
            "Epoch: 4, Loss: 1.5047054290771484, Accuracy: 0.960904184434968\n",
            "Epoch: 5, Loss: 1.5001555681228638, Accuracy: 0.9645189232409381\n",
            "Epoch: 6, Loss: 1.4966610670089722, Accuracy: 0.9679004530916844\n",
            "Epoch: 7, Loss: 1.4931107759475708, Accuracy: 0.9711154051172708\n",
            "Epoch: 8, Loss: 1.491188406944275, Accuracy: 0.9729144456289979\n",
            "Epoch: 9, Loss: 1.4890328645706177, Accuracy: 0.974646855010661\n"
          ]
        }
      ]
    },
    {
      "cell_type": "code",
      "metadata": {
        "id": "6FxJnhQDLGFt"
      },
      "source": [
        "# save model\n",
        "\n",
        "torch.save(model.state_dict(), \"mnist.pth\")"
      ],
      "execution_count": null,
      "outputs": []
    },
    {
      "cell_type": "code",
      "metadata": {
        "id": "4SuEQcfx8BWk",
        "colab": {
          "base_uri": "https://localhost:8080/"
        },
        "outputId": "481ac6be-cd66-4e86-b12a-6b874968da43"
      },
      "source": [
        "# inference\n",
        "\n",
        "import cv2\n",
        "import numpy as np\n",
        "\n",
        "# model.tarin(False)\n",
        "my_model.eval()\n",
        "\n",
        "# preprocess\n",
        "img = cv2.imread('5.jpg')\n",
        "img = cv2.cvtColor(img, cv2.COLOR_BGR2GRAY)\n",
        "img = cv2.resize(img, (28, 28))\n",
        "\n",
        "tensor = transform(img).unsqueeze(0).to(device)\n",
        "# tensor = tensor.to(device)\n",
        "\n",
        "# process\n",
        "preds = my_model(tensor)\n",
        "\n",
        "# postprocess\n",
        "preds = preds.cpu().detach().numpy()\n",
        "output = np.argmax(preds)\n",
        "output"
      ],
      "execution_count": 20,
      "outputs": [
        {
          "output_type": "execute_result",
          "data": {
            "text/plain": [
              "5"
            ]
          },
          "metadata": {},
          "execution_count": 20
        }
      ]
    },
    {
      "cell_type": "code",
      "metadata": {
        "id": "Xd_CSql_I9wm"
      },
      "source": [
        ""
      ],
      "execution_count": null,
      "outputs": []
    }
  ]
}