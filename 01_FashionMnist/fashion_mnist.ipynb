{
  "nbformat": 4,
  "nbformat_minor": 0,
  "metadata": {
    "colab": {
      "name": "fashion_mnist.ipynb",
      "provenance": []
    },
    "kernelspec": {
      "name": "python3",
      "display_name": "Python 3"
    },
    "language_info": {
      "name": "python"
    },
    "accelerator": "GPU",
    "widgets": {
      "application/vnd.jupyter.widget-state+json": {
        "5e42438c2870441eb63406b2160532fa": {
          "model_module": "@jupyter-widgets/controls",
          "model_name": "VBoxModel",
          "model_module_version": "1.5.0",
          "state": {
            "_view_name": "VBoxView",
            "_dom_classes": [],
            "_model_name": "VBoxModel",
            "_view_module": "@jupyter-widgets/controls",
            "_model_module_version": "1.5.0",
            "_view_count": null,
            "_view_module_version": "1.5.0",
            "box_style": "",
            "layout": "IPY_MODEL_e1d404ed8b9047899111a3df7cd4eb03",
            "_model_module": "@jupyter-widgets/controls",
            "children": [
              "IPY_MODEL_0f2e4ec963b445b9b7abf65a1cd0f302",
              "IPY_MODEL_efe21db0f5aa46dab1a1e28448fd7437"
            ]
          }
        },
        "e1d404ed8b9047899111a3df7cd4eb03": {
          "model_module": "@jupyter-widgets/base",
          "model_name": "LayoutModel",
          "model_module_version": "1.2.0",
          "state": {
            "_view_name": "LayoutView",
            "grid_template_rows": null,
            "right": null,
            "justify_content": null,
            "_view_module": "@jupyter-widgets/base",
            "overflow": null,
            "_model_module_version": "1.2.0",
            "_view_count": null,
            "flex_flow": null,
            "width": null,
            "min_width": null,
            "border": null,
            "align_items": null,
            "bottom": null,
            "_model_module": "@jupyter-widgets/base",
            "top": null,
            "grid_column": null,
            "overflow_y": null,
            "overflow_x": null,
            "grid_auto_flow": null,
            "grid_area": null,
            "grid_template_columns": null,
            "flex": null,
            "_model_name": "LayoutModel",
            "justify_items": null,
            "grid_row": null,
            "max_height": null,
            "align_content": null,
            "visibility": null,
            "align_self": null,
            "height": null,
            "min_height": null,
            "padding": null,
            "grid_auto_rows": null,
            "grid_gap": null,
            "max_width": null,
            "order": null,
            "_view_module_version": "1.2.0",
            "grid_template_areas": null,
            "object_position": null,
            "object_fit": null,
            "grid_auto_columns": null,
            "margin": null,
            "display": null,
            "left": null
          }
        },
        "0f2e4ec963b445b9b7abf65a1cd0f302": {
          "model_module": "@jupyter-widgets/controls",
          "model_name": "LabelModel",
          "model_module_version": "1.5.0",
          "state": {
            "_view_name": "LabelView",
            "style": "IPY_MODEL_857783a0795f481b971f976d779f33d6",
            "_dom_classes": [],
            "description": "",
            "_model_name": "LabelModel",
            "placeholder": "​",
            "_view_module": "@jupyter-widgets/controls",
            "_model_module_version": "1.5.0",
            "value": " 0.01MB of 0.01MB uploaded (0.00MB deduped)\r",
            "_view_count": null,
            "_view_module_version": "1.5.0",
            "description_tooltip": null,
            "_model_module": "@jupyter-widgets/controls",
            "layout": "IPY_MODEL_0bcc0e15a0dd4d75a196384bd1287494"
          }
        },
        "efe21db0f5aa46dab1a1e28448fd7437": {
          "model_module": "@jupyter-widgets/controls",
          "model_name": "FloatProgressModel",
          "model_module_version": "1.5.0",
          "state": {
            "_view_name": "ProgressView",
            "style": "IPY_MODEL_e4a0f94d686e43c5a56c3cf4581a39dc",
            "_dom_classes": [],
            "description": "",
            "_model_name": "FloatProgressModel",
            "bar_style": "",
            "max": 1,
            "_view_module": "@jupyter-widgets/controls",
            "_model_module_version": "1.5.0",
            "value": 1,
            "_view_count": null,
            "_view_module_version": "1.5.0",
            "orientation": "horizontal",
            "min": 0,
            "description_tooltip": null,
            "_model_module": "@jupyter-widgets/controls",
            "layout": "IPY_MODEL_4a5f268e7b154cb0a807c8c78519c8ec"
          }
        },
        "857783a0795f481b971f976d779f33d6": {
          "model_module": "@jupyter-widgets/controls",
          "model_name": "DescriptionStyleModel",
          "model_module_version": "1.5.0",
          "state": {
            "_view_name": "StyleView",
            "_model_name": "DescriptionStyleModel",
            "description_width": "",
            "_view_module": "@jupyter-widgets/base",
            "_model_module_version": "1.5.0",
            "_view_count": null,
            "_view_module_version": "1.2.0",
            "_model_module": "@jupyter-widgets/controls"
          }
        },
        "0bcc0e15a0dd4d75a196384bd1287494": {
          "model_module": "@jupyter-widgets/base",
          "model_name": "LayoutModel",
          "model_module_version": "1.2.0",
          "state": {
            "_view_name": "LayoutView",
            "grid_template_rows": null,
            "right": null,
            "justify_content": null,
            "_view_module": "@jupyter-widgets/base",
            "overflow": null,
            "_model_module_version": "1.2.0",
            "_view_count": null,
            "flex_flow": null,
            "width": null,
            "min_width": null,
            "border": null,
            "align_items": null,
            "bottom": null,
            "_model_module": "@jupyter-widgets/base",
            "top": null,
            "grid_column": null,
            "overflow_y": null,
            "overflow_x": null,
            "grid_auto_flow": null,
            "grid_area": null,
            "grid_template_columns": null,
            "flex": null,
            "_model_name": "LayoutModel",
            "justify_items": null,
            "grid_row": null,
            "max_height": null,
            "align_content": null,
            "visibility": null,
            "align_self": null,
            "height": null,
            "min_height": null,
            "padding": null,
            "grid_auto_rows": null,
            "grid_gap": null,
            "max_width": null,
            "order": null,
            "_view_module_version": "1.2.0",
            "grid_template_areas": null,
            "object_position": null,
            "object_fit": null,
            "grid_auto_columns": null,
            "margin": null,
            "display": null,
            "left": null
          }
        },
        "e4a0f94d686e43c5a56c3cf4581a39dc": {
          "model_module": "@jupyter-widgets/controls",
          "model_name": "ProgressStyleModel",
          "model_module_version": "1.5.0",
          "state": {
            "_view_name": "StyleView",
            "_model_name": "ProgressStyleModel",
            "description_width": "",
            "_view_module": "@jupyter-widgets/base",
            "_model_module_version": "1.5.0",
            "_view_count": null,
            "_view_module_version": "1.2.0",
            "bar_color": null,
            "_model_module": "@jupyter-widgets/controls"
          }
        },
        "4a5f268e7b154cb0a807c8c78519c8ec": {
          "model_module": "@jupyter-widgets/base",
          "model_name": "LayoutModel",
          "model_module_version": "1.2.0",
          "state": {
            "_view_name": "LayoutView",
            "grid_template_rows": null,
            "right": null,
            "justify_content": null,
            "_view_module": "@jupyter-widgets/base",
            "overflow": null,
            "_model_module_version": "1.2.0",
            "_view_count": null,
            "flex_flow": null,
            "width": null,
            "min_width": null,
            "border": null,
            "align_items": null,
            "bottom": null,
            "_model_module": "@jupyter-widgets/base",
            "top": null,
            "grid_column": null,
            "overflow_y": null,
            "overflow_x": null,
            "grid_auto_flow": null,
            "grid_area": null,
            "grid_template_columns": null,
            "flex": null,
            "_model_name": "LayoutModel",
            "justify_items": null,
            "grid_row": null,
            "max_height": null,
            "align_content": null,
            "visibility": null,
            "align_self": null,
            "height": null,
            "min_height": null,
            "padding": null,
            "grid_auto_rows": null,
            "grid_gap": null,
            "max_width": null,
            "order": null,
            "_view_module_version": "1.2.0",
            "grid_template_areas": null,
            "object_position": null,
            "object_fit": null,
            "grid_auto_columns": null,
            "margin": null,
            "display": null,
            "left": null
          }
        }
      }
    }
  },
  "cells": [
    {
      "cell_type": "code",
      "metadata": {
        "id": "sHLllHNkQbw9"
      },
      "source": [
        "pip install wandb"
      ],
      "execution_count": null,
      "outputs": []
    },
    {
      "cell_type": "code",
      "metadata": {
        "id": "aik3hFBG8y8c"
      },
      "source": [
        "import torch\n",
        "import torchvision\n",
        "import wandb"
      ],
      "execution_count": 10,
      "outputs": []
    },
    {
      "cell_type": "code",
      "metadata": {
        "colab": {
          "base_uri": "https://localhost:8080/",
          "height": 261,
          "referenced_widgets": [
            "5e42438c2870441eb63406b2160532fa",
            "e1d404ed8b9047899111a3df7cd4eb03",
            "0f2e4ec963b445b9b7abf65a1cd0f302",
            "efe21db0f5aa46dab1a1e28448fd7437",
            "857783a0795f481b971f976d779f33d6",
            "0bcc0e15a0dd4d75a196384bd1287494",
            "e4a0f94d686e43c5a56c3cf4581a39dc",
            "4a5f268e7b154cb0a807c8c78519c8ec"
          ]
        },
        "id": "a76ZJJGDQxYR",
        "outputId": "3be7bafe-1690-4abb-f316-4c046d8b2f09"
      },
      "source": [
        "wandb.init(project=\"fashion mnist\")"
      ],
      "execution_count": 20,
      "outputs": [
        {
          "output_type": "display_data",
          "data": {
            "text/html": [
              "Finishing last run (ID:3btfsktz) before initializing another..."
            ],
            "text/plain": [
              "<IPython.core.display.HTML object>"
            ]
          },
          "metadata": {}
        },
        {
          "output_type": "display_data",
          "data": {
            "text/html": [
              "<br/>Waiting for W&B process to finish, PID 191... <strong style=\"color:green\">(success).</strong>"
            ],
            "text/plain": [
              "<IPython.core.display.HTML object>"
            ]
          },
          "metadata": {}
        },
        {
          "output_type": "display_data",
          "data": {
            "application/vnd.jupyter.widget-view+json": {
              "model_id": "5e42438c2870441eb63406b2160532fa",
              "version_minor": 0,
              "version_major": 2
            },
            "text/plain": [
              "VBox(children=(Label(value=' 0.00MB of 0.00MB uploaded (0.00MB deduped)\\r'), FloatProgress(value=1.0, max=1.0)…"
            ]
          },
          "metadata": {}
        },
        {
          "output_type": "display_data",
          "data": {
            "text/html": [
              "<style>\n",
              "    table.wandb td:nth-child(1) { padding: 0 10px; text-align: right }\n",
              "    .wandb-row { display: flex; flex-direction: row; flex-wrap: wrap; width: 100% }\n",
              "    .wandb-col { display: flex; flex-direction: column; flex-basis: 100%; flex: 1; padding: 10px; }\n",
              "    </style>\n",
              "<div class=\"wandb-row\"><div class=\"wandb-col\">\n",
              "</div><div class=\"wandb-col\">\n",
              "</div></div>\n",
              "Synced 5 W&B file(s), 0 media file(s), 0 artifact file(s) and 0 other file(s)\n",
              "<br/>Synced <strong style=\"color:#cdcd00\">olive-blaze-1</strong>: <a href=\"https://wandb.ai/nahid-ebrahimian/fashion%20mnist/runs/3btfsktz\" target=\"_blank\">https://wandb.ai/nahid-ebrahimian/fashion%20mnist/runs/3btfsktz</a><br/>\n",
              "Find logs at: <code>./wandb/run-20211206_150403-3btfsktz/logs</code><br/>\n"
            ],
            "text/plain": [
              "<IPython.core.display.HTML object>"
            ]
          },
          "metadata": {}
        },
        {
          "output_type": "display_data",
          "data": {
            "text/html": [
              "Successfully finished last run (ID:3btfsktz). Initializing new run:<br/>"
            ],
            "text/plain": [
              "<IPython.core.display.HTML object>"
            ]
          },
          "metadata": {}
        },
        {
          "output_type": "display_data",
          "data": {
            "text/html": [
              "\n",
              "                    Syncing run <strong><a href=\"https://wandb.ai/nahid-ebrahimian/fashion%20mnist/runs/1ftksz2d\" target=\"_blank\">effortless-sun-2</a></strong> to <a href=\"https://wandb.ai/nahid-ebrahimian/fashion%20mnist\" target=\"_blank\">Weights & Biases</a> (<a href=\"https://docs.wandb.com/integrations/jupyter.html\" target=\"_blank\">docs</a>).<br/>\n",
              "\n",
              "                "
            ],
            "text/plain": [
              "<IPython.core.display.HTML object>"
            ]
          },
          "metadata": {}
        },
        {
          "output_type": "execute_result",
          "data": {
            "text/plain": [
              "<wandb.sdk.wandb_run.Run at 0x7f414afe6550>"
            ],
            "text/html": [
              "<button onClick=\"this.nextSibling.style.display='block';this.style.display='none';\">Display W&B run</button><iframe src=\"https://wandb.ai/nahid-ebrahimian/fashion%20mnist/runs/1ftksz2d?jupyter=true\" style=\"border:none;width:100%;height:420px;display:none;\"></iframe>"
            ]
          },
          "metadata": {},
          "execution_count": 20
        }
      ]
    },
    {
      "cell_type": "code",
      "metadata": {
        "id": "NX1E6nVCLW6N"
      },
      "source": [
        "class my_model(torch.nn.Module):\n",
        "  def __init__(self):\n",
        "    super().__init__()\n",
        "    # self.conv1 = nn.Conv2d(in_channels=1, out_channels=16, kernel_size=3, padding_mode='same')\n",
        "    # self.conv2 = nn.Conv2d(in_channels=16, out_channels=32, kernel_size=3, padding_mode='same')\n",
        "    self.fc1 = torch.nn.Linear(784, 256)\n",
        "    self.fc2 = torch.nn.Linear(256, 128)\n",
        "    self.fc3 = torch.nn.Linear(128, 64)\n",
        "    self.fc4 = torch.nn.Linear(64, 10)\n",
        "\n",
        "  def forward(self, x):\n",
        "    x = x.reshape((x.shape[0], 784))\n",
        "\n",
        "    x = self.fc1(x)\n",
        "    x = torch.relu(x)\n",
        "    x = torch.dropout(x, 0.2, train=True)\n",
        "\n",
        "    x = self.fc2(x)\n",
        "    x = torch.relu(x)\n",
        "    x = torch.dropout(x, 0.2, train=True)\n",
        "\n",
        "    x = self.fc3(x)\n",
        "    x = torch.relu(x)\n",
        "    x = torch.dropout(x, 0.2, train=True)\n",
        "\n",
        "    x = self.fc4(x)\n",
        "    x = torch.softmax(x, dim=1)\n",
        "    return x"
      ],
      "execution_count": 21,
      "outputs": []
    },
    {
      "cell_type": "code",
      "metadata": {
        "colab": {
          "base_uri": "https://localhost:8080/"
        },
        "id": "VSGyi50mNYZ5",
        "outputId": "55279314-9466-4d77-c3e6-1b7708f1c4d4"
      },
      "source": [
        "device = torch.device(\"cuda\")\n",
        "# device = torch.device(\"cpu\")\n",
        "\n",
        "model = my_model()\n",
        "model = model.to(device)\n",
        "model.train(True)"
      ],
      "execution_count": 22,
      "outputs": [
        {
          "output_type": "execute_result",
          "data": {
            "text/plain": [
              "my_model(\n",
              "  (fc1): Linear(in_features=784, out_features=256, bias=True)\n",
              "  (fc2): Linear(in_features=256, out_features=128, bias=True)\n",
              "  (fc3): Linear(in_features=128, out_features=64, bias=True)\n",
              "  (fc4): Linear(in_features=64, out_features=10, bias=True)\n",
              ")"
            ]
          },
          "metadata": {},
          "execution_count": 22
        }
      ]
    },
    {
      "cell_type": "code",
      "metadata": {
        "id": "e0KpFUI7RU0L"
      },
      "source": [
        "# parameters\n",
        "\n",
        "batch_size = 64\n",
        "epochs = 10\n",
        "config = wandb.config\n",
        "config.learning_rate = 0.001"
      ],
      "execution_count": 23,
      "outputs": []
    },
    {
      "cell_type": "code",
      "metadata": {
        "id": "4impy16tNrZ1"
      },
      "source": [
        "transform = torchvision.transforms.Compose([\n",
        "    torchvision.transforms.ToTensor(),\n",
        "    torchvision.transforms.Normalize((0), (1)),\n",
        "    torchvision.transforms.RandomHorizontalFlip(0.5),\n",
        "    # torchvision.transforms.Scale()\n",
        "])\n",
        "\n",
        "dataset = torchvision.datasets.FashionMNIST(\"./dataset\", train=True, download=True, transform=transform)\n",
        "train_data = torch.utils.data.DataLoader(dataset, batch_size=batch_size, shuffle=True)"
      ],
      "execution_count": 24,
      "outputs": []
    },
    {
      "cell_type": "code",
      "metadata": {
        "id": "qi224_ahS7qS"
      },
      "source": [
        "optimizer = torch.optim.Adam(model.parameters(), lr=config.learning_rate)\n",
        "loss_function = torch.nn.CrossEntropyLoss()"
      ],
      "execution_count": 25,
      "outputs": []
    },
    {
      "cell_type": "code",
      "metadata": {
        "id": "9P8YZ7X4PWmr"
      },
      "source": [
        "def calc_acc(preds, labels):\n",
        "  _, pred = torch.max(preds, 1)\n",
        "  acc = torch.sum(pred == labels.data, dtype=torch.float64) / len(preds)\n",
        "  return acc"
      ],
      "execution_count": 26,
      "outputs": []
    },
    {
      "cell_type": "code",
      "metadata": {
        "colab": {
          "base_uri": "https://localhost:8080/"
        },
        "id": "4sqUhn0WR1VO",
        "outputId": "9a41f4df-2cfa-4003-da3c-f5a668a7d1df"
      },
      "source": [
        "for epoch in range(epochs):\n",
        "  train_loss = 0.0\n",
        "  train_acc = 0.0\n",
        "  for images, labels in train_data:\n",
        "    images = images.to(device)\n",
        "    labels = labels.to(device)\n",
        "    optimizer.zero_grad()\n",
        "\n",
        "    preds = model(images)\n",
        "\n",
        "    loss = loss_function(preds, labels)\n",
        "    loss.backward()\n",
        "\n",
        "    optimizer.step()\n",
        "\n",
        "    train_loss += loss\n",
        "    train_acc += calc_acc(preds, labels)\n",
        "\n",
        "  total_loss = train_loss / len(train_data)\n",
        "  total_acc = train_acc / len(train_data)\n",
        "  print(f\"Epoch: {epoch+1}, Loss: {total_loss}, Accuracy: {total_acc}\")\n",
        "\n",
        "  wandb.log({'epochs':  epoch + 1,\n",
        "              'loss': total_loss,\n",
        "              'acc': total_acc\n",
        "                              })"
      ],
      "execution_count": 27,
      "outputs": [
        {
          "output_type": "stream",
          "name": "stdout",
          "text": [
            "Epoch: 1, Loss: 1.7543165683746338, Accuracy: 0.7120535714285714\n",
            "Epoch: 2, Loss: 1.661380648612976, Accuracy: 0.8015724946695095\n",
            "Epoch: 3, Loss: 1.6468504667282104, Accuracy: 0.814215751599147\n",
            "Epoch: 4, Loss: 1.637058138847351, Accuracy: 0.8240271855010661\n",
            "Epoch: 5, Loss: 1.631467580795288, Accuracy: 0.8294576226012793\n",
            "Epoch: 6, Loss: 1.6300042867660522, Accuracy: 0.8302738539445629\n",
            "Epoch: 7, Loss: 1.6267271041870117, Accuracy: 0.8338219616204691\n",
            "Epoch: 8, Loss: 1.623963713645935, Accuracy: 0.8365371801705757\n",
            "Epoch: 9, Loss: 1.6198234558105469, Accuracy: 0.8406183368869936\n",
            "Epoch: 10, Loss: 1.621852993965149, Accuracy: 0.8387526652452025\n"
          ]
        }
      ]
    },
    {
      "cell_type": "code",
      "metadata": {
        "id": "BDZe09W_P0Eh"
      },
      "source": [
        "torch.save(model.state_dict(), \"fashion_mnist.pth\")"
      ],
      "execution_count": 28,
      "outputs": []
    },
    {
      "cell_type": "code",
      "metadata": {
        "id": "qG-IC6FmS0up"
      },
      "source": [
        "import cv2\n",
        "import numpy as np\n",
        "\n",
        "# model.tarin(False)\n",
        "my_model.eval()\n",
        "\n",
        "# preprocess\n",
        "img = cv2.imread('5.jpg')\n",
        "img = cv2.cvtColor(img, cv2.COLOR_BGR2GRAY)\n",
        "img = cv2.resize(img, (28, 28))\n",
        "\n",
        "tensor = transform(img).unsqueeze(0).to(device)\n",
        "# tensor = tensor.to(device)\n",
        "\n",
        "# process\n",
        "preds = my_model(tensor)\n",
        "\n",
        "# postprocess\n",
        "preds = preds.cpu().detach().numpy()\n",
        "output = np.argmax(preds)\n",
        "output"
      ],
      "execution_count": null,
      "outputs": []
    }
  ]
}