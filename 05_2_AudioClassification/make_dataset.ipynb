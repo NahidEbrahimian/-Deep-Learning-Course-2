{
  "cells": [
    {
      "cell_type": "code",
      "source": [
        "# Library for speech processsing\n",
        "\n",
        "!pip install pydub\n",
        "!cd /content/drive/MyDrive/04-AudioClassification"
      ],
      "metadata": {
        "id": "9INq3Mg4-GiM"
      },
      "id": "9INq3Mg4-GiM",
      "execution_count": null,
      "outputs": []
    },
    {
      "cell_type": "code",
      "execution_count": 3,
      "id": "aee61f76-8a4e-4578-8e1b-60c504ca60a1",
      "metadata": {
        "id": "aee61f76-8a4e-4578-8e1b-60c504ca60a1"
      },
      "outputs": [],
      "source": [
        "# Imports\n",
        "\n",
        "import os\n",
        "from pathlib import Path\n",
        "import matplotlib.pyplot as plt\n",
        "from pydub import AudioSegment\n",
        "from pydub.silence import split_on_silence\n",
        "from pydub.utils import make_chunks"
      ]
    },
    {
      "cell_type": "code",
      "execution_count": null,
      "id": "b2f15832-b280-4b3f-a6a1-64a9e0f70f38",
      "metadata": {
        "id": "b2f15832-b280-4b3f-a6a1-64a9e0f70f38"
      },
      "outputs": [],
      "source": [
        "# Merge multi file of one class\n",
        "\n",
        "source = \"/content/drive/MyDrive/04-AudioClassification\"\n",
        "audios_files = os.path.join(source, \"audios_raw\")\n",
        "merged_files_directory = \"merged_audios\"\n",
        "\n",
        "Path(os.path.join(source, merged_files_directory)).mkdir(parents=True, exist_ok=True)\n",
        "\n",
        "for audio in os.listdir(audios_files):\n",
        "  voice_file1 = os.path.join(audios_files, audio)\n",
        "\n",
        "  print(voice_file1)\n",
        "  if \"_\" in Path(audio).stem:\n",
        "    if Path(audio).stem.split(\"_\")[1] == '1':\n",
        "      voice_file2 = voice_file1.replace('1','2')\n",
        "      voice1 = AudioSegment.from_file(voice_file1)\n",
        "      voice2 = AudioSegment.from_file(voice_file2)\n",
        "\n",
        "      combined_voice = voice1 + voice2\n",
        "      combined_voice.export(os.path.join(source, merged_files_directory, audio.split(\"_\")[0] + \".ogg\"), format=\"ogg\", bitrate=\"192k\")\n",
        "  else:\n",
        "    voice = AudioSegment.from_file(voice_file1)\n",
        "    voice.export(os.path.join(source, merged_files_directory, audio), format=\"ogg\", bitrate=\"192k\")\n",
        "    print(os.path.join(source, merged_files_directory, audio))\n"
      ]
    },
    {
      "cell_type": "code",
      "execution_count": null,
      "id": "3a86291c-b8a9-476f-816d-4de687dcb34c",
      "metadata": {
        "id": "3a86291c-b8a9-476f-816d-4de687dcb34c"
      },
      "outputs": [],
      "source": [
        "# Preprocessing: Remove silence of audios\n",
        "\"\"\"\n",
        "split_on_silence: for remove silence of audios\n",
        "\"\"\"\n",
        "\n",
        "sound = AudioSegment.from_ogg(os.path.join(source, \"merged_audios/nahid.ogg\"))\n",
        "audio_chunks = split_on_silence(sound, min_silence_len=2000, silence_thresh=-45)\n",
        "audio_chunks"
      ]
    },
    {
      "cell_type": "code",
      "execution_count": null,
      "id": "5688226a-bdf2-4aa4-bb33-1c2da049df16",
      "metadata": {
        "id": "5688226a-bdf2-4aa4-bb33-1c2da049df16"
      },
      "outputs": [],
      "source": [
        "combined_audio = sum(audio_chunks)\n",
        "combined_audio"
      ]
    },
    {
      "cell_type": "code",
      "execution_count": null,
      "id": "8d6e887b-ea8d-4869-9c7f-a5060b86e6fb",
      "metadata": {
        "id": "8d6e887b-ea8d-4869-9c7f-a5060b86e6fb"
      },
      "outputs": [],
      "source": [
        "audios_raw_dir_path = os.path.join(source, \"merged_audios\")\n",
        "audios_remove_silence_dir_path = os.path.join(source, \"audios_remove_silence\")\n",
        "Path(audios_remove_silence_dir_path).mkdir(exist_ok=True)\n",
        "\n",
        "for file in os.listdir(audios_raw_dir_path):\n",
        "    file_path = os.path.join(audios_raw_dir_path, file)\n",
        "    audio = AudioSegment.from_file(file_path)\n",
        "    \n",
        "    # draw\n",
        "    print(file)\n",
        "    samples = audio.get_array_of_samples()\n",
        "    plt.figure(figsize=(20, 2), dpi=80)\n",
        "    plt.plot(samples)\n",
        "    plt.show()\n",
        "    \n",
        "    # remove silence\n",
        "    audio_chunks = split_on_silence(audio, min_silence_len = 2000, silence_thresh = -45)\n",
        "    combined_audio = sum(audio_chunks)\n",
        "    filename = Path(file_path).stem\n",
        "    output_file_path = os.path.join(audios_remove_silence_dir_path, filename + \".wav\")\n",
        "    combined_audio.export(output_file_path, format=\"wav\", bitrate=\"32k\")"
      ]
    },
    {
      "cell_type": "code",
      "execution_count": null,
      "id": "8b1999d9-3f9c-45ec-aa17-123d551149e7",
      "metadata": {
        "id": "8b1999d9-3f9c-45ec-aa17-123d551149e7"
      },
      "outputs": [],
      "source": [
        "# Convert audios files to 1sec audios files\n",
        "\"\"\"\n",
        "make_chunks: convert audios to 1sec files\n",
        "\"\"\"\n",
        "\n",
        "audios_remove_silence_dir_path = os.path.join(source, \"audios_remove_silence\")\n",
        "dataset_dir_path = os.path.join(source,\"final_dataset\")\n",
        "Path(dataset_dir_path).mkdir(exist_ok=True)\n",
        "\n",
        "for file in os.listdir(audios_remove_silence_dir_path):\n",
        "    filename = Path(file).stem\n",
        "    file_path = os.path.join(audios_remove_silence_dir_path, file)\n",
        "    Path(os.path.join(dataset_dir_path, filename)).mkdir(parents=True, exist_ok=True)\n",
        "\n",
        "    audio = AudioSegment.from_file(file_path) \n",
        "    chunk_length_ms = 1000  # pydub calculates in millisec \n",
        "    chunks = make_chunks(audio, chunk_length_ms)  #  Make chunks of one sec \n",
        "    \n",
        "    for i, chunk in enumerate(chunks):\n",
        "        if len(chunk) < 1000:\n",
        "            continue\n",
        "        output_file_path = os.path.join(dataset_dir_path, filename, filename + \"_\" + str(i) + \".wav\")\n",
        "        print (\"exporting\", output_file_path)\n",
        "        chunk.export(output_file_path, format=\"wav\")"
      ]
    },
    {
      "cell_type": "code",
      "source": [],
      "metadata": {
        "id": "3_fnOrClSqAi"
      },
      "id": "3_fnOrClSqAi",
      "execution_count": null,
      "outputs": []
    }
  ],
  "metadata": {
    "kernelspec": {
      "display_name": "Python 3.10.9 64-bit (microsoft store)",
      "language": "python",
      "name": "python3"
    },
    "language_info": {
      "codemirror_mode": {
        "name": "ipython",
        "version": 3
      },
      "file_extension": ".py",
      "mimetype": "text/x-python",
      "name": "python",
      "nbconvert_exporter": "python",
      "pygments_lexer": "ipython3",
      "version": "3.10.9"
    },
    "vscode": {
      "interpreter": {
        "hash": "5d0e00d6b9b3e01406fc9cf86847ab2f7c397c86bf59751f04bd93aa2f530cda"
      }
    },
    "colab": {
      "provenance": []
    }
  },
  "nbformat": 4,
  "nbformat_minor": 5
}