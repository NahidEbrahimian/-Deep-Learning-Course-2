{
  "nbformat": 4,
  "nbformat_minor": 0,
  "metadata": {
    "colab": {
      "provenance": []
    },
    "kernelspec": {
      "name": "python3",
      "display_name": "Python 3"
    },
    "language_info": {
      "name": "python"
    },
    "accelerator": "GPU",
    "gpuClass": "standard"
  },
  "cells": [
    {
      "cell_type": "code",
      "source": [
        "!pip install pytelegrambotapi"
      ],
      "metadata": {
        "id": "QjoOaW97fmsD"
      },
      "execution_count": null,
      "outputs": []
    },
    {
      "cell_type": "code",
      "execution_count": 39,
      "metadata": {
        "id": "tstQ36WyJRI6"
      },
      "outputs": [],
      "source": [
        "# Imports\n",
        "\n",
        "import os\n",
        "import os.path as ops\n",
        "import torch\n",
        "import torch.nn as nn\n",
        "import torch.nn.functional as F\n",
        "from torch.nn.utils.rnn import pad_sequence\n",
        "from torch.utils.data import Dataset\n",
        "import torchaudio # for speech\n",
        "import numpy as np\n",
        "from tqdm import tqdm"
      ]
    },
    {
      "cell_type": "code",
      "source": [
        "# Directories\n",
        "\n",
        "source = \"/content/drive/MyDrive/04-AudioClassification\""
      ],
      "metadata": {
        "id": "4fKFfFEMN5SF"
      },
      "execution_count": 40,
      "outputs": []
    },
    {
      "cell_type": "code",
      "source": [
        "# Device\n",
        "\n",
        "device = torch.device(\"cuda\" if torch.cuda.is_available() else \"cpu\")\n",
        "print(f\"Using {device}\")\n",
        "\n",
        "if device == \"cuda\":\n",
        "    num_workers = 1\n",
        "    pin_memory = True\n",
        "else:\n",
        "    num_workers = 0\n",
        "    pin_memory = False"
      ],
      "metadata": {
        "id": "qa-hegaTJZw0"
      },
      "execution_count": null,
      "outputs": []
    },
    {
      "cell_type": "code",
      "source": [
        "# Hyperparameters\n",
        "\n",
        "epochs = 120\n",
        "lr = 0.0001\n",
        "batch_size = 16"
      ],
      "metadata": {
        "id": "pVL50VPDJt1y"
      },
      "execution_count": 42,
      "outputs": []
    },
    {
      "cell_type": "markdown",
      "source": [
        "### Prepairing dataset"
      ],
      "metadata": {
        "id": "ALpY4lK3U51m"
      }
    },
    {
      "cell_type": "code",
      "source": [
        "class AudioDataset(Dataset):\n",
        "    def __init__(self, dataset_path):\n",
        "        self.dir_path = dataset_path\n",
        "        self.classes = os.listdir(self.dir_path)\n",
        "        self.data_paths = []\n",
        "        self.labels = []\n",
        "\n",
        "        for root, dirs, files in os.walk(self.dir_path):\n",
        "            for file in files:\n",
        "                label = os.path.basename(root)\n",
        "                data_path = os.path.join(root, file)\n",
        "                self.data_paths.append(data_path)\n",
        "                self.labels.append(self.classes.index(label))\n",
        "\n",
        "        print(f\"{len(self.labels)} data loaded from {len(set(self.labels))} classes\")\n",
        "\n",
        "    def __len__(self):\n",
        "        return len(self.labels)\n",
        "\n",
        "    def __getitem__(self, index):\n",
        "        data_path = self.data_paths[index]\n",
        "        label = self.labels[index]\n",
        "\n",
        "        signal, sample_rate = torchaudio.load(data_path)\n",
        "        signal = torch.mean(signal, dim=0, keepdim=True)\n",
        "\n",
        "        transform = torchaudio.transforms.Resample(orig_freq=sample_rate, new_freq=8000)\n",
        "        signal_mono_transformed = transform(signal)\n",
        "\n",
        "        return signal_mono_transformed, label"
      ],
      "metadata": {
        "id": "KJFe6kDQJ-lu"
      },
      "execution_count": 8,
      "outputs": []
    },
    {
      "cell_type": "code",
      "source": [
        "dataset = AudioDataset(ops.join(source, \"final_dataset\"))\n",
        "class_names = dataset.classes\n",
        "np.save('label_map.npy', class_names) \n",
        "num_classes = len(class_names)\n",
        "\n",
        "\n",
        "train_size = int(len(dataset) * 0.8)\n",
        "test_size = len(dataset) - train_size\n",
        "\n",
        "train_dataset, test_dataset = torch.utils.data.random_split(dataset, [train_size, test_size])\n",
        "\n",
        "train_data_loader = torch.utils.data.DataLoader(train_dataset, \n",
        "                                                batch_size=batch_size, \n",
        "                                                shuffle=True, \n",
        "                                                # collate_fn=collate_fn,\n",
        "                                                # num_workers=num_workers, \n",
        "                                                # pin_memory=pin_memory\n",
        "                                                )\n",
        "\n",
        "test_data_loader = torch.utils.data.DataLoader(test_dataset, \n",
        "                                                batch_size=batch_size, \n",
        "                                                shuffle=False,\n",
        "                                                # collate_fn=collate_fn,\n",
        "                                                # num_workers=num_workers, \n",
        "                                                # pin_memory=pin_memory\n",
        "                                               )"
      ],
      "metadata": {
        "id": "tvGQ2iXtMriL",
        "colab": {
          "base_uri": "https://localhost:8080/"
        },
        "outputId": "6f899f2e-5a11-466e-8edd-e993e4a3a9c9"
      },
      "execution_count": 46,
      "outputs": [
        {
          "output_type": "stream",
          "name": "stdout",
          "text": [
            "1242 data loaded from 10 classes\n"
          ]
        }
      ]
    },
    {
      "cell_type": "markdown",
      "source": [
        "### Define Model"
      ],
      "metadata": {
        "id": "swryqyudU9Vx"
      }
    },
    {
      "cell_type": "code",
      "source": [
        "class M5(nn.Module):\n",
        "    def __init__(self, n_input=1, n_output=35, stride=8, n_channel=32):\n",
        "        super().__init__()\n",
        "        self.conv1 = nn.Conv1d(n_input, n_channel, kernel_size=48, stride=stride) # 1*80 array\n",
        "        self.bn1 = nn.BatchNorm1d(n_channel)\n",
        "        self.pool1 = nn.MaxPool1d(4)\n",
        "        self.conv2 = nn.Conv1d(n_channel, 2 * n_channel, kernel_size=3)\n",
        "        self.bn2 = nn.BatchNorm1d(2 * n_channel)\n",
        "        self.pool2 = nn.MaxPool1d(4)\n",
        "        self.conv3 = nn.Conv1d(2 * n_channel, 4 * n_channel, kernel_size=3)\n",
        "        self.bn3 = nn.BatchNorm1d(4 * n_channel)\n",
        "        self.pool3 = nn.MaxPool1d(4)\n",
        "        self.conv4 = nn.Conv1d(4 * n_channel, 8 * n_channel, kernel_size=3)\n",
        "        self.bn4 = nn.BatchNorm1d(8 * n_channel)\n",
        "        self.pool4 = nn.MaxPool1d(4)\n",
        "        self.fc1 = nn.Linear(8 * n_channel, n_output)\n",
        "        # self.dropout1 = nn.Dropout(0.2)\n",
        "        # self.fc2 = nn.Linear(4 * n_channel, n_output)\n",
        "        # self.dropout2 = nn.Dropout(0.2)\n",
        "\n",
        "    def forward(self, x):\n",
        "        x = self.conv1(x)\n",
        "        x = F.relu(self.bn1(x))\n",
        "        x = self.pool1(x)\n",
        "        x = self.conv2(x)\n",
        "        x = F.relu(self.bn2(x))\n",
        "        x = self.pool2(x)\n",
        "        x = self.conv3(x)\n",
        "        x = F.relu(self.bn3(x))\n",
        "        x = self.pool3(x)\n",
        "        x = self.conv4(x)\n",
        "        x = F.relu(self.bn4(x))\n",
        "        x = self.pool4(x)\n",
        "        x = F.avg_pool1d(x, x.shape[-1])\n",
        "        x = torch.flatten(x, start_dim=1)\n",
        "        # x = self.dropout1(x)\n",
        "        x = self.fc1(x)\n",
        "        # x = self.dropout2(x)\n",
        "        # x = self.fc2(x)\n",
        "        x = F.softmax(x, dim=1)\n",
        "        return x\n",
        "\n",
        "    def accuracy(self, preds, labels):\n",
        "        maxs, indices = torch.max(preds, 1)\n",
        "        acc = torch.sum(indices == labels) / len(preds)\n",
        "        return acc.cpu()"
      ],
      "metadata": {
        "id": "IImtzGNVRVsD"
      },
      "execution_count": 10,
      "outputs": []
    },
    {
      "cell_type": "code",
      "source": [
        "model = M5(n_output=num_classes).to(device)\n",
        "print(model)\n",
        "\n",
        "# count_parameters\n",
        "n = sum(p.numel() for p in model.parameters() if p.requires_grad)\n",
        "print(\"Number of parameters: %s\" % n)"
      ],
      "metadata": {
        "id": "cxwjcjH1UP1c"
      },
      "execution_count": null,
      "outputs": []
    },
    {
      "cell_type": "code",
      "source": [
        "optimizer = torch.optim.Adam(model.parameters(), lr=lr)\n",
        "loss_function = nn.CrossEntropyLoss()"
      ],
      "metadata": {
        "id": "AsbxvKmmUWw4"
      },
      "execution_count": 12,
      "outputs": []
    },
    {
      "cell_type": "markdown",
      "source": [
        "### Train, Test and Enference"
      ],
      "metadata": {
        "id": "6hOQjYx5VYby"
      }
    },
    {
      "cell_type": "code",
      "source": [
        "# train\n",
        "\n",
        "model.train()\n",
        "\n",
        "for epoch in range(epochs):\n",
        "    train_loss = 0.0\n",
        "    train_acc = 0.0\n",
        "    for audios, labels in tqdm(train_data_loader):\n",
        "        audios, labels = audios.to(device), labels.to(device)\n",
        "        labels_one_hot = torch.nn.functional.one_hot(labels, num_classes=num_classes).type(torch.FloatTensor).to(device)\n",
        "\n",
        "        preds = model(audios)\n",
        "        loss = loss_function(preds, labels_one_hot)\n",
        "        \n",
        "        # optimizer.zero_grad()\n",
        "        loss.backward()\n",
        "        optimizer.step()\n",
        "\n",
        "        train_loss += loss\n",
        "        train_acc += model.accuracy(preds, labels)\n",
        "    \n",
        "    total_loss = train_loss / len(train_data_loader)\n",
        "    total_acc = train_acc / len(train_data_loader)\n",
        "\n",
        "    print(f\"Epoch: {epoch}, Loss: {total_loss}, Acc: {total_acc}\")"
      ],
      "metadata": {
        "id": "D_O1Qtq5Uhle"
      },
      "execution_count": null,
      "outputs": []
    },
    {
      "cell_type": "code",
      "source": [
        "# Evaluation\n",
        "model.eval()\n",
        "\n",
        "test_loss = 0.0\n",
        "test_acc = 0.0\n",
        "\n",
        "for audios, labels in tqdm(test_data_loader):\n",
        "    audios, labels = audios.to(device), labels.to(device)\n",
        "    labels_one_hot = torch.nn.functional.one_hot(labels, num_classes=num_classes).type(torch.FloatTensor).to(device)\n",
        "\n",
        "    preds = model(audios)\n",
        "    loss = loss_function(preds, labels_one_hot)\n",
        "\n",
        "    test_loss += loss\n",
        "    test_acc += model.accuracy(preds, labels)\n",
        "\n",
        "total_loss = test_loss / len(test_data_loader)\n",
        "total_acc = test_acc / len(test_data_loader)\n",
        "\n",
        "print(f\"Loss: {total_loss}, Acc: {total_acc}\")"
      ],
      "metadata": {
        "id": "ejRUGC9YWpHh",
        "colab": {
          "base_uri": "https://localhost:8080/"
        },
        "outputId": "280550d2-9bf0-496d-a45c-78129434eb9f"
      },
      "execution_count": 12,
      "outputs": [
        {
          "output_type": "stream",
          "name": "stderr",
          "text": [
            "100%|██████████| 16/16 [00:00<00:00, 18.25it/s]"
          ]
        },
        {
          "output_type": "stream",
          "name": "stdout",
          "text": [
            "Loss: 1.5264931917190552, Acc: 0.93359375\n"
          ]
        },
        {
          "output_type": "stream",
          "name": "stderr",
          "text": [
            "\n"
          ]
        }
      ]
    },
    {
      "cell_type": "code",
      "source": [
        "# Save model\n",
        "torch.save(model.state_dict(), \"/content/drive/MyDrive/04-AudioClassification/weights.pth\")"
      ],
      "metadata": {
        "id": "vQuOmMYwXbcl"
      },
      "execution_count": 14,
      "outputs": []
    },
    {
      "cell_type": "markdown",
      "source": [
        "### Telegram Bot"
      ],
      "metadata": {
        "id": "OMLPDvHcWoZy"
      }
    },
    {
      "cell_type": "code",
      "source": [
        "%cd /content/drive/MyDrive/04-AudioClassification"
      ],
      "metadata": {
        "id": "MJYUwQArSJRY"
      },
      "execution_count": null,
      "outputs": []
    },
    {
      "cell_type": "code",
      "source": [
        "import numpy as np\n",
        "import telebot\n",
        "from keras.models import load_model\n",
        "from model import M5\n",
        "\n",
        "# Device\n",
        "device = torch.device(\"cuda\" if torch.cuda.is_available() else \"cpu\")\n",
        "print(f\"Using {device}\")\n",
        "\n",
        "if device == \"cuda\":\n",
        "    num_workers = 1\n",
        "    pin_memory = True\n",
        "else:\n",
        "    num_workers = 0\n",
        "    pin_memory = False\n",
        "\n",
        "# Load model\n",
        "label_map = np.load('label_map.npy',allow_pickle='TRUE')\n",
        "num_classes = len(label_map)\n",
        "model = M5(n_output = num_classes).to(device)\n",
        "model.load_state_dict(torch.load(\"/content/drive/MyDrive/04-AudioClassification/audio_classifier_weights_best.pth\"))\n",
        "model.eval()\n",
        "\n",
        "bot = telebot.TeleBot(\" \")\n",
        "\n",
        "@bot.message_handler(commands=['start'])\n",
        "def start(messages):\n",
        "    bot.send_message(messages.chat.id, f'welcome dear {messages.from_user.first_name} ')\n",
        "    bot.send_message(messages.chat.id, f'***Audio Classification***')\n",
        "    bot.send_message(messages.chat.id, f'Please send me your voice😊')\n",
        "\n",
        "@bot.message_handler(content_types=['voice'])\n",
        "def voice(message):\n",
        "    audio_info = bot.get_file(message.voice.file_id)\n",
        "    downloaded_file = bot.download_file(audio_info.file_path)\n",
        "    src = audio_info.file_path\n",
        "\n",
        "    with open(src, 'wb') as audio_file:\n",
        "        audio_file.write(downloaded_file)\n",
        "\n",
        "    signal, sample_rate = torchaudio.load(src)\n",
        "\n",
        "    # preprocess\n",
        "    signal = torch.mean(signal, dim=0, keepdim=True)\n",
        "    transform = torchaudio.transforms.Resample(orig_freq=sample_rate, new_freq=8000)\n",
        "    signal = transform(signal)\n",
        "    signal = signal.unsqueeze(0).to(device)\n",
        "\n",
        "    # process\n",
        "    preds = model(signal)\n",
        "\n",
        "    # postprocess\n",
        "    preds = preds.cpu().detach().numpy()\n",
        "    output = np.argmax(preds)\n",
        "    print(label_map[output])\n",
        "    bot.reply_to(message, label_map[output])\n",
        "\n",
        "\n",
        "bot.polling()"
      ],
      "metadata": {
        "id": "Jz7rXNDm5rnR"
      },
      "execution_count": null,
      "outputs": []
    },
    {
      "cell_type": "code",
      "source": [],
      "metadata": {
        "id": "LvDcjQ_qX_wG"
      },
      "execution_count": null,
      "outputs": []
    }
  ]
}