{
  "nbformat": 4,
  "nbformat_minor": 0,
  "metadata": {
    "colab": {
      "provenance": []
    },
    "kernelspec": {
      "name": "python3",
      "display_name": "Python 3"
    },
    "language_info": {
      "name": "python"
    },
    "accelerator": "GPU",
    "gpuClass": "standard"
  },
  "cells": [
    {
      "cell_type": "code",
      "execution_count": null,
      "metadata": {
        "id": "Vt59m0RP2eyc"
      },
      "outputs": [],
      "source": [
        "# Library for speech processsing\n",
        "\n",
        "!pip install pydub"
      ]
    },
    {
      "cell_type": "code",
      "source": [
        "# Imports\n",
        "\n",
        "import os\n",
        "import os.path as ops\n",
        "from pathlib import Path\n",
        "import matplotlib.pyplot as plt\n",
        "from pydub import AudioSegment\n",
        "from pydub.silence import split_on_silence\n",
        "from pydub.utils import make_chunks"
      ],
      "metadata": {
        "id": "FyN06Y8l2j1Q"
      },
      "execution_count": 19,
      "outputs": []
    },
    {
      "cell_type": "code",
      "source": [
        "# Directories\n",
        "\n",
        "source = \"/content/drive/MyDrive/04-AudioClassification\""
      ],
      "metadata": {
        "id": "f1yClKoT30Aa"
      },
      "execution_count": 10,
      "outputs": []
    },
    {
      "cell_type": "code",
      "source": [
        "# Read audio file\n",
        "\"\"\"\n",
        "AudioSegment: for read audio files\n",
        "\"\"\"\n",
        "\n",
        "voice = AudioSegment.from_file(ops.join(source, \"audios_raw/nahid.ogg\"))\n",
        "voice\n"
      ],
      "metadata": {
        "id": "dGfo_jYE2k6i"
      },
      "execution_count": null,
      "outputs": []
    },
    {
      "cell_type": "code",
      "source": [
        "# Plot audio signal\n",
        "\"\"\"\n",
        "First convert to numpy array\n",
        "\"\"\"\n",
        "\n",
        "array = voice.get_array_of_samples() # Convert to numpy array\n",
        "plt.plot(array)\n",
        "plt.show()\n"
      ],
      "metadata": {
        "id": "rw4BIAWT22Qf"
      },
      "execution_count": null,
      "outputs": []
    },
    {
      "cell_type": "code",
      "source": [
        "# Merge some audio files that belong to the same class and convert formats to wav\n",
        "\n",
        "\n",
        "voice1 = AudioSegment.from_file(ops.join(source, \"audios_raw/mohammadali_1.ogg\"))\n",
        "voice2 = AudioSegment.from_file(ops.join(source, \"audios_raw/mohammadali_2.ogg\"))\n",
        "\n",
        "combined_voice = voice1 + voice2\n",
        "combined_voice.export(ops.join(source, \"audios_raw/mohammadali.wav\"), format=\"wav\", bitrate=\"192k\")\n",
        "\n",
        "os.remove(ops.join(source, \"audios_raw/mohammadali_1.ogg\"))\n",
        "os.remove(ops.join(source, \"audios_raw/mohammadali_2.ogg\"))\n",
        "\n",
        "\n",
        "voice1 = AudioSegment.from_file(ops.join(source, \"audios_raw/morteza_1.m4a\"))\n",
        "voice2 = AudioSegment.from_file(ops.join(source, \"audios_raw/morteza_2.m4a\"))\n",
        "\n",
        "combined_voice = voice1 + voice2\n",
        "combined_voice.export(ops.join(source, \"audios_raw/morteza.wav\"), format=\"wav\", bitrate=\"192k\")\n",
        "\n",
        "os.remove(ops.join(source, \"audios_raw/morteza_1.m4a\"))\n",
        "os.remove(ops.join(source, \"audios_raw/morteza_2.m4a\"))\n",
        "\n",
        "\n",
        "voice1 = AudioSegment.from_file(ops.join(source, \"audios_raw/zeynab_1.ogg\"))\n",
        "voice2 = AudioSegment.from_file(ops.join(source, \"audios_raw/zeynab_2.ogg\"))\n",
        "\n",
        "combined_voice = voice1 + voice2\n",
        "combined_voice.export(ops.join(source, \"audios_raw/zeynab.wav\"), format=\"wav\", bitrate=\"192k\")\n",
        "\n",
        "os.remove(ops.join(source, \"audios_raw/zeynab_1.ogg\"))\n",
        "os.remove(ops.join(source, \"audios_raw/zeynab_2.ogg\"))"
      ],
      "metadata": {
        "id": "UMJPlwyl5n_A"
      },
      "execution_count": 29,
      "outputs": []
    },
    {
      "cell_type": "code",
      "source": [
        "# Preprocessing: Remove silence of audios\n",
        "\"\"\"\n",
        "split_on_silence: for remove silence of audios\n",
        "\"\"\"\n",
        "\n",
        "audios_raw_dir_path = \"audios_raw\"\n",
        "audios_remove_silence_dir_path = \"audios_remove_silence\"\n",
        "\n",
        "Path(ops.join(source, audios_remove_silence_dir_path)).mkdir(exist_ok=True)\n",
        "\n",
        "for file in os.listdir(ops.join(source, audios_raw_dir_path)):\n",
        "    file_path = ops.join(source, audios_raw_dir_path, file)\n",
        "    voice = AudioSegment.from_file(file_path)\n",
        "    \n",
        "    voice_part = split_on_silence(voice, min_silence_len = 2000, silence_thresh = -45)\n",
        "    \n",
        "    combined_audio = sum(voice_part)\n",
        "    filename = Path(file_path).stem\n",
        "    output_file_path = ops.join(source, audios_remove_silence_dir_path, filename + \".wav\")\n",
        "    combined_audio.export(ops.join(source, output_file_path), format=\"wav\", bitrate=\"32k\")\n"
      ],
      "metadata": {
        "id": "x31PLSBh8st2"
      },
      "execution_count": 34,
      "outputs": []
    },
    {
      "cell_type": "code",
      "source": [
        "# Convert audios files to 1sec audios files\n",
        "\"\"\"\n",
        "make_chunks: convert audios to 1sec files\n",
        "\"\"\"\n",
        "audios_remove_silence_dir_path = \"audios_remove_silence\"\n",
        "dataset_dir_path = \"dataset\"\n",
        "Path(ops.join(source, dataset_dir_path)).mkdir(exist_ok=True)\n",
        "\n",
        "for file in os.listdir(ops.join(source, audios_remove_silence_dir_path)):\n",
        "    file_path = ops.join(source, audios_remove_silence_dir_path, file)\n",
        "    voice = AudioSegment.from_file(file_path) \n",
        "\n",
        "    chunks = make_chunks(voice, 1000)  #  Make chunks of one sec \n",
        "\n",
        "    filename = Path(file).stem    \n",
        "    Path(ops.join(source, dataset_dir_path, filename)).mkdir(parents=True, exist_ok=True)\n",
        "    for i, chunk in enumerate(chunks):\n",
        "        if len(chunk) < 1000:\n",
        "            continue\n",
        "        output_file_path = os.path.join(dataset_dir_path, filename, filename + \"_\" + str(i) + \".wav\")\n",
        "        print (\"exporting\", output_file_path)\n",
        "        chunk.export(ops.join(source, output_file_path), format=\"wav\")\n"
      ],
      "metadata": {
        "id": "HHQrSD_Q_dXQ"
      },
      "execution_count": null,
      "outputs": []
    },
    {
      "cell_type": "code",
      "source": [],
      "metadata": {
        "id": "IYE4Eu1HD7Qo"
      },
      "execution_count": null,
      "outputs": []
    }
  ]
}